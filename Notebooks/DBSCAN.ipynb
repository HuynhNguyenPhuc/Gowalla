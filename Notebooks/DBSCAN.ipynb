{
 "cells": [
  {
   "cell_type": "code",
   "execution_count": 0,
   "metadata": {
    "application/vnd.databricks.v1+cell": {
     "cellMetadata": {
      "byteLimit": 2048000,
      "rowLimit": 10000
     },
     "inputWidgets": {},
     "nuid": "a1c3b489-dfc5-47a6-a1b1-c188654e7728",
     "showTitle": false,
     "title": ""
    },
    "jupyter": {
     "outputs_hidden": true
    }
   },
   "outputs": [],
   "source": [
    "%pip install geoscan"
   ]
  },
  {
   "cell_type": "code",
   "execution_count": 0,
   "metadata": {
    "application/vnd.databricks.v1+cell": {
     "cellMetadata": {
      "byteLimit": 2048000,
      "rowLimit": 10000
     },
     "inputWidgets": {},
     "nuid": "dd98862f-c14b-4ef8-b439-d49439f6b285",
     "showTitle": false,
     "title": ""
    }
   },
   "outputs": [],
   "source": [
    "import pyspark.sql.functions as F\n",
    "from geoscan import Geoscan"
   ]
  },
  {
   "cell_type": "code",
   "execution_count": 0,
   "metadata": {
    "application/vnd.databricks.v1+cell": {
     "cellMetadata": {
      "byteLimit": 2048000,
      "rowLimit": 10000
     },
     "inputWidgets": {},
     "nuid": "4c5dae27-24b4-4415-aad5-dad5c75c4752",
     "showTitle": false,
     "title": ""
    }
   },
   "outputs": [],
   "source": [
    "df = spark.sql(\"SELECT * FROM databricks_tourism_workspace.default.gowalla_checkins\")\n",
    "\n",
    "df = df.select(\"user\", \"checkinTime\", \"latitude\", \"longitude\")"
   ]
  },
  {
   "cell_type": "code",
   "execution_count": 0,
   "metadata": {
    "application/vnd.databricks.v1+cell": {
     "cellMetadata": {
      "byteLimit": 2048000,
      "rowLimit": 10000
     },
     "inputWidgets": {},
     "nuid": "94ed7c43-4c82-4b79-87f3-4145bb086b94",
     "showTitle": false,
     "title": ""
    }
   },
   "outputs": [],
   "source": [
    "geoscan = Geoscan() \\\n",
    "    .setLatitudeCol(\"latitude\") \\\n",
    "    .setLongitudeCol(\"longitude\") \\\n",
    "    .setPredictionCol(\"cluster\") \\\n",
    "    .setEpsilon(400) \\\n",
    "    .setMinPts(2)\n",
    "\n",
    "model = geoscan.fit(df)"
   ]
  },
  {
   "cell_type": "code",
   "execution_count": 0,
   "metadata": {
    "application/vnd.databricks.v1+cell": {
     "cellMetadata": {
      "byteLimit": 2048000,
      "rowLimit": 10000
     },
     "inputWidgets": {},
     "nuid": "82e93e59-af04-4b9f-bfa4-379a36e4ec3b",
     "showTitle": false,
     "title": ""
    }
   },
   "outputs": [],
   "source": [
    "df = model.transform(df)"
   ]
  },
  {
   "cell_type": "code",
   "execution_count": 0,
   "metadata": {
    "application/vnd.databricks.v1+cell": {
     "cellMetadata": {
      "byteLimit": 2048000,
      "rowLimit": 10000
     },
     "inputWidgets": {},
     "nuid": "6fcf8bf0-02fc-4e4a-bd12-b439c7c886a3",
     "showTitle": false,
     "title": ""
    }
   },
   "outputs": [],
   "source": [
    "## Remove null clusters (outliers)\n",
    "df = df.filter(F.col(\"cluster\").isNotNull())\n",
    "\n",
    "## Calculate average of latitude and longtitude for points in one cluster\n",
    "location = df.groupBy(\"cluster\").agg(F.avg(\"latitude\").alias(\"latitude\"), F.avg(\"longitude\").alias(\"longitude\"))"
   ]
  },
  {
   "cell_type": "code",
   "execution_count": 0,
   "metadata": {
    "application/vnd.databricks.v1+cell": {
     "cellMetadata": {
      "byteLimit": 2048000,
      "rowLimit": 10000
     },
     "inputWidgets": {},
     "nuid": "3353d92a-5768-4ffe-93b1-47cc3a617b52",
     "showTitle": false,
     "title": ""
    }
   },
   "outputs": [],
   "source": [
    "df_temp = df.select(\"user\", \"checkinTime\", \"cluster\")\n",
    "df = df_temp.join(location, on=(df_temp.cluster == location.cluster)).select(\"user\", \"checkinTime\", \"latitude\", \"longitude\", df_temp.cluster)"
   ]
  },
  {
   "cell_type": "code",
   "execution_count": 0,
   "metadata": {
    "application/vnd.databricks.v1+cell": {
     "cellMetadata": {
      "byteLimit": 2048000,
      "rowLimit": 10000
     },
     "inputWidgets": {},
     "nuid": "42176deb-b891-4ce6-9e5b-db00520eea9d",
     "showTitle": false,
     "title": ""
    }
   },
   "outputs": [],
   "source": [
    "display(df)"
   ]
  },
  {
   "cell_type": "code",
   "execution_count": 0,
   "metadata": {
    "application/vnd.databricks.v1+cell": {
     "cellMetadata": {
      "byteLimit": 2048000,
      "rowLimit": 10000
     },
     "inputWidgets": {},
     "nuid": "f6a829ea-ae47-4b0c-852d-b0b203638fe5",
     "showTitle": false,
     "title": ""
    }
   },
   "outputs": [],
   "source": [
    "df.write.format(\"delta\").mode(\"overwrite\").option(\"overwriteSchema\", \"true\").saveAsTable(\"gowalla_checkins\")"
   ]
  }
 ],
 "metadata": {
  "application/vnd.databricks.v1+notebook": {
   "dashboards": [],
   "language": "python",
   "notebookMetadata": {
    "pythonIndentUnit": 4
   },
   "notebookName": "DBSCAN",
   "widgets": {}
  }
 },
 "nbformat": 4,
 "nbformat_minor": 0
}
