{
 "cells": [
  {
   "cell_type": "code",
   "execution_count": 0,
   "metadata": {
    "application/vnd.databricks.v1+cell": {
     "cellMetadata": {
      "byteLimit": 2048000,
      "rowLimit": 10000
     },
     "inputWidgets": {},
     "nuid": "7a8509a8-0aee-4f78-8f43-0d3a27d5bb5e",
     "showTitle": false,
     "title": ""
    }
   },
   "outputs": [
    {
     "output_type": "display_data",
     "data": {
      "text/html": [
       "<style scoped>\n",
       "  .ansiout {\n",
       "    display: block;\n",
       "    unicode-bidi: embed;\n",
       "    white-space: pre-wrap;\n",
       "    word-wrap: break-word;\n",
       "    word-break: break-all;\n",
       "    font-family: \"Menlo\", \"Monaco\", \"Consolas\", \"Ubuntu Mono\", \"Source Code Pro\", monospace;\n",
       "    font-size: 13px;\n",
       "    color: #555;\n",
       "    margin-left: 4px;\n",
       "    line-height: 19px;\n",
       "  }\n",
       "</style>\n",
       "<div class=\"ansiout\"></div>"
      ]
     },
     "metadata": {
      "application/vnd.databricks.v1+output": {
       "addedWidgets": {},
       "arguments": {},
       "data": "<div class=\"ansiout\"></div>",
       "datasetInfos": [],
       "metadata": {},
       "removedWidgets": [],
       "type": "html"
      }
     },
     "output_type": "display_data"
    }
   ],
   "source": [
    "import math\n",
    "from pyspark.sql.functions import *\n",
    "from pyspark.sql.types import *\n",
    "from pyspark.mllib.linalg.distributed import CoordinateMatrix, MatrixEntry\n",
    "from operator import add\n",
    "import numpy as np"
   ]
  },
  {
   "cell_type": "code",
   "execution_count": 0,
   "metadata": {
    "application/vnd.databricks.v1+cell": {
     "cellMetadata": {
      "byteLimit": 2048000,
      "rowLimit": 10000
     },
     "inputWidgets": {},
     "nuid": "de40da7e-fdc4-40f1-8353-c3ec33e4b6e0",
     "showTitle": false,
     "title": ""
    }
   },
   "outputs": [
    {
     "output_type": "display_data",
     "data": {
      "text/html": [
       "<style scoped>\n",
       "  .ansiout {\n",
       "    display: block;\n",
       "    unicode-bidi: embed;\n",
       "    white-space: pre-wrap;\n",
       "    word-wrap: break-word;\n",
       "    word-break: break-all;\n",
       "    font-family: \"Menlo\", \"Monaco\", \"Consolas\", \"Ubuntu Mono\", \"Source Code Pro\", monospace;\n",
       "    font-size: 13px;\n",
       "    color: #555;\n",
       "    margin-left: 4px;\n",
       "    line-height: 19px;\n",
       "  }\n",
       "</style>\n",
       "<div class=\"ansiout\"></div>"
      ]
     },
     "metadata": {
      "application/vnd.databricks.v1+output": {
       "addedWidgets": {},
       "arguments": {},
       "data": "<div class=\"ansiout\"></div>",
       "datasetInfos": [],
       "metadata": {},
       "removedWidgets": [],
       "type": "html"
      }
     },
     "output_type": "display_data"
    }
   ],
   "source": [
    "def loadGraph():\n",
    "    vertices = spark.sql(\"SELECT * FROM databricks_tourism_workspace.default.graph_vertices\")\n",
    "    edges = spark.sql(\"SELECT * FROM databricks_tourism_workspace.default.graph_edges\")\n",
    "    return vertices, edges\n",
    "\n",
    "def saveGraph(vertices, edges):\n",
    "    vertices.write.format(\"delta\").mode(\"overwrite\").option(\"overwriteSchema\", \"true\").saveAsTable(\"graph_vertices\")\n",
    "    edges.write.format(\"delta\").mode(\"overwrite\").option(\"overwriteSchema\", \"true\").saveAsTable(\"graph_edges\")"
   ]
  },
  {
   "cell_type": "code",
   "execution_count": 0,
   "metadata": {
    "application/vnd.databricks.v1+cell": {
     "cellMetadata": {
      "byteLimit": 2048000,
      "rowLimit": 10000
     },
     "inputWidgets": {},
     "nuid": "0b499edf-91b4-4382-8fd4-2962285b8bf7",
     "showTitle": false,
     "title": ""
    }
   },
   "outputs": [
    {
     "output_type": "display_data",
     "data": {
      "text/html": [
       "<style scoped>\n",
       "  .ansiout {\n",
       "    display: block;\n",
       "    unicode-bidi: embed;\n",
       "    white-space: pre-wrap;\n",
       "    word-wrap: break-word;\n",
       "    word-break: break-all;\n",
       "    font-family: \"Menlo\", \"Monaco\", \"Consolas\", \"Ubuntu Mono\", \"Source Code Pro\", monospace;\n",
       "    font-size: 13px;\n",
       "    color: #555;\n",
       "    margin-left: 4px;\n",
       "    line-height: 19px;\n",
       "  }\n",
       "</style>\n",
       "<div class=\"ansiout\"></div>"
      ]
     },
     "metadata": {
      "application/vnd.databricks.v1+output": {
       "addedWidgets": {},
       "arguments": {},
       "data": "<div class=\"ansiout\"></div>",
       "datasetInfos": [],
       "metadata": {},
       "removedWidgets": [],
       "type": "html"
      }
     },
     "output_type": "display_data"
    }
   ],
   "source": [
    "vertices, edges = loadGraph()"
   ]
  },
  {
   "cell_type": "markdown",
   "metadata": {
    "application/vnd.databricks.v1+cell": {
     "cellMetadata": {
      "byteLimit": 2048000,
      "rowLimit": 10000
     },
     "inputWidgets": {},
     "nuid": "b65245ca-5368-4610-8905-51e23f98b3d0",
     "showTitle": false,
     "title": ""
    }
   },
   "source": [
    "# Markov Clustering"
   ]
  },
  {
   "cell_type": "code",
   "execution_count": 0,
   "metadata": {
    "application/vnd.databricks.v1+cell": {
     "cellMetadata": {
      "byteLimit": 2048000,
      "rowLimit": 10000
     },
     "inputWidgets": {},
     "nuid": "78667be6-64ac-4b33-87e1-d18bceb1f4d7",
     "showTitle": false,
     "title": ""
    }
   },
   "outputs": [
    {
     "output_type": "display_data",
     "data": {
      "text/html": [
       "<style scoped>\n",
       "  .ansiout {\n",
       "    display: block;\n",
       "    unicode-bidi: embed;\n",
       "    white-space: pre-wrap;\n",
       "    word-wrap: break-word;\n",
       "    word-break: break-all;\n",
       "    font-family: \"Menlo\", \"Monaco\", \"Consolas\", \"Ubuntu Mono\", \"Source Code Pro\", monospace;\n",
       "    font-size: 13px;\n",
       "    color: #555;\n",
       "    margin-left: 4px;\n",
       "    line-height: 19px;\n",
       "  }\n",
       "</style>\n",
       "<div class=\"ansiout\"></div>"
      ]
     },
     "metadata": {
      "application/vnd.databricks.v1+output": {
       "addedWidgets": {},
       "arguments": {},
       "data": "<div class=\"ansiout\"></div>",
       "datasetInfos": [],
       "metadata": {},
       "removedWidgets": [],
       "type": "html"
      }
     },
     "output_type": "display_data"
    }
   ],
   "source": [
    "vertices_test = vertices.filter(col(\"id\") < 100)\n",
    "edges_test = edges.filter((col(\"src\") < 100) & (col(\"dst\") < 100))"
   ]
  },
  {
   "cell_type": "code",
   "execution_count": 0,
   "metadata": {
    "application/vnd.databricks.v1+cell": {
     "cellMetadata": {
      "byteLimit": 2048000,
      "rowLimit": 10000
     },
     "inputWidgets": {},
     "nuid": "dc7894b7-f44c-4399-88af-f1ba28d2f1b0",
     "showTitle": false,
     "title": ""
    }
   },
   "outputs": [
    {
     "output_type": "display_data",
     "data": {
      "text/html": [
       "<style scoped>\n",
       "  .ansiout {\n",
       "    display: block;\n",
       "    unicode-bidi: embed;\n",
       "    white-space: pre-wrap;\n",
       "    word-wrap: break-word;\n",
       "    word-break: break-all;\n",
       "    font-family: \"Menlo\", \"Monaco\", \"Consolas\", \"Ubuntu Mono\", \"Source Code Pro\", monospace;\n",
       "    font-size: 13px;\n",
       "    color: #555;\n",
       "    margin-left: 4px;\n",
       "    line-height: 19px;\n",
       "  }\n",
       "</style>\n",
       "<div class=\"ansiout\"></div>"
      ]
     },
     "metadata": {
      "application/vnd.databricks.v1+output": {
       "addedWidgets": {},
       "arguments": {},
       "data": "<div class=\"ansiout\"></div>",
       "datasetInfos": [],
       "metadata": {},
       "removedWidgets": [],
       "type": "html"
      }
     },
     "output_type": "display_data"
    }
   ],
   "source": [
    "def matrix_multiply(A, B):\n",
    "    \"\"\"\n",
    "    Performs matrix multiplication of two CoordinateMatrices.\n",
    "    \n",
    "    Args:\n",
    "    A (CoordinateMatrix): First matrix.\n",
    "    B (CoordinateMatrix): Second matrix.\n",
    "    \n",
    "    Returns:\n",
    "    CoordinateMatrix: Resultant matrix after multiplication.\n",
    "    \"\"\"\n",
    "    try:\n",
    "        A_rdd = A.entries.map(lambda x: (x.j,(x.i,x.value))) \n",
    "        B_rdd = B.entries.map(lambda x: (x.i,(x.j,x.value))) \n",
    "        interm_rdd = A_rdd.join(B_rdd).map(lambda x: ((x[1][0][0],x[1][1][0]),(x[1][0][1]*x[1][1][1])))\n",
    "        C_rdd = interm_rdd.reduceByKey(add).map(lambda x: MatrixEntry(x[0][0],x[0][1],x[1])) \n",
    "        return CoordinateMatrix(C_rdd)\n",
    "    except Exception as e:\n",
    "        logging.error(f\"An error occurred in matrix multiplication: {str(e)}\")\n",
    "\n",
    "def matrix_multiply_mod(a, b):\n",
    "    \"\"\"\n",
    "    Performs matrix multiplication in BlockMatrix style.\n",
    "    \n",
    "    Args:\n",
    "    a (CoordinateMatrix): First matrix.\n",
    "    b (CoordinateMatrix): Second matrix.\n",
    "    \n",
    "    Returns:\n",
    "    CoordinateMatrix: Resultant matrix after multiplication.\n",
    "    \"\"\"\n",
    "    try:\n",
    "        bmat_a = a.toBlockMatrix()\n",
    "        b_tanspose= b.transpose()\n",
    "        bmat_b_tanspose=b_tanspose.toBlockMatrix()\n",
    "        bmat_result= bmat_a.multiply(bmat_b_tanspose)\n",
    "        return bmat_result.toCoordinateMatrix()\n",
    "    except Exception as e:\n",
    "        logging.error(f\"An error occurred in modified matrix multiplication: {str(e)}\")\n",
    "\n",
    "def normalize_mat(df):\n",
    "    \"\"\"\n",
    "    Normalize the matrix by calculating L1 norm.\n",
    "    \n",
    "    Args:\n",
    "    df (DataFrame): DataFrame representing the coordinate matrix.\n",
    "    \n",
    "    Returns:\n",
    "    DataFrame: DataFrame of normalized matrix.\n",
    "    \"\"\"\n",
    "    try:\n",
    "        cols = df.columns\n",
    "        df = df.withColumnRenamed(cols[0],'src').withColumnRenamed(cols[1],'dest').withColumnRenamed(cols[2],'wt')\n",
    "        tdf = df.groupby('dest').agg({'wt':'sum'}).withColumnRenamed('dest','dest_t').withColumnRenamed('sum(wt)','total_t')\n",
    "        df = df.join(tdf,df.dest==tdf.dest_t)\n",
    "        df = df.withColumn('new_wts', col('wt').cast('float')/col('total_t'))\n",
    "        df = df.select('src','dest','new_wts')\n",
    "        df = df.withColumnRenamed('src',cols[0]).withColumnRenamed('dest',cols[1]).withColumnRenamed('new_wts',cols[2])\n",
    "        return df\n",
    "    except Exception as e:\n",
    "        logging.error(f\"An error occurred in matrix normalization: {str(e)}\")\n",
    "\n",
    "def expand_mat(df,power,blockstyle=True):\n",
    "    \"\"\"\n",
    "    Calculate the nth power of a matrix A.\n",
    "    \n",
    "    Args:\n",
    "    df (DataFrame): DataFrame of the coordinate matrix A.\n",
    "    power (int): Exponent to which the matrix should be raised.\n",
    "    blockstyle (bool): Calculate matrix multiplication block style or by simple RDD joins.\n",
    "    \n",
    "    Returns:\n",
    "    DataFrame: DataFrame of A^n matrix with source, destination, and weight columns.\n",
    "    \"\"\"\n",
    "    try:\n",
    "        cols = df.columns\n",
    "        cdf =  CoordinateMatrix(df.rdd.map(tuple))\n",
    "        rdf = cdf\n",
    "        if blockstyle:\n",
    "            for i in range(power-1):\n",
    "                rdf = matrix_multiply_mod(rdf,cdf)\n",
    "        else:\n",
    "            for i in range(power-1):\n",
    "                rdf = matrix_multiply(rdf,cdf)\n",
    "        rdf_rdd = rdf.entries.map(lambda x: (x.i,x.j,x.value))\n",
    "        result_df = rdf_rdd.toDF()\n",
    "        result_df = result_df.withColumnRenamed('_1',cols[0]).withColumnRenamed('_2',cols[1]).withColumnRenamed('_3',cols[2])\n",
    "        return result_df\n",
    "    except Exception as e:\n",
    "        logging.error(f\"An error occurred in matrix expansion: {str(e)}\")\n",
    "\n",
    "def inflate_mat(df,inflate_size):\n",
    "    \"\"\"\n",
    "    Raise each element of the matrix to the given power.\n",
    "    \n",
    "    Args:\n",
    "    df (DataFrame): DataFrame of the coordinate matrix.\n",
    "    inflate_size (int or float): Power to which each element should be raised.\n",
    "    \n",
    "    Returns:\n",
    "    DataFrame: DataFrame of inflated matrix with source, destination, and weight columns.\n",
    "    \"\"\"\n",
    "    try:\n",
    "        cols = df.columns\n",
    "        df = df.withColumnRenamed(cols[0],'src').withColumnRenamed(cols[1],'dest').withColumnRenamed(cols[2],'wt')\n",
    "        df = df.withColumn('new_wts', col('wt')**inflate_size)\n",
    "        df = df.select('src','dest','new_wts')\n",
    "        df = df.withColumnRenamed('src',cols[0]).withColumnRenamed('dest',cols[1]).withColumnRenamed('new_wts',cols[2])\n",
    "        df = normalize_mat(df)\n",
    "        return df\n",
    "    except Exception as e:\n",
    "        logging.error(f\"An error occurred in matrix inflation: {str(e)}\")\n",
    "\n",
    "def prune_mat(df,threshold):\n",
    "    \"\"\"\n",
    "    Prune the matrix if the weights are below a certain threshold.\n",
    "    \n",
    "    Args:\n",
    "    df (DataFrame): DataFrame of the coordinate matrix.\n",
    "    threshold (float): Threshold below which weights are ignored.\n",
    "    \n",
    "    Returns:\n",
    "    DataFrame: Pruned DataFrame with source, destination, and weight columns.\n",
    "    \"\"\"\n",
    "    try:\n",
    "        cols = df.columns\n",
    "        df = df.filter(col(cols[2])>threshold)\n",
    "        return df\n",
    "    except Exception as e:\n",
    "        logging.error(f\"An error occurred in matrix pruning: {str(e)}\")\n",
    "\n",
    "def converged(df1,df2):\n",
    "    \"\"\"\n",
    "    Check for convergence by calculating the difference between the weights.\n",
    "    \n",
    "    Args:\n",
    "    df1 (DataFrame): DataFrame of the coordinate matrix 1.\n",
    "    df2 (DataFrame): DataFrame of the coordinate matrix 2.\n",
    "    \n",
    "    Returns:\n",
    "    bool: True if matrices are converged, False otherwise.\n",
    "    \"\"\"\n",
    "    try:\n",
    "        cols1 = df1.columns\n",
    "        cols2 = df2.columns\n",
    "        df1 = df1.withColumnRenamed(cols1[0],'src1').withColumnRenamed(cols1[1],'dest1').withColumnRenamed(cols1[2],'wt1').persist()\n",
    "        df2 = df2.withColumnRenamed(cols2[0],'src2').withColumnRenamed(cols2[1],'dest2').withColumnRenamed(cols2[2],'wt2').persist()\n",
    "        df1.count()\n",
    "        df2.count()\n",
    "\n",
    "        @udf('int')\n",
    "        def np_allclose(a,b):\n",
    "            return int(np.allclose(a, b))\n",
    "\n",
    "        df = df2.join(df1,(df1.src1==df2.src2) & (df1.dest1==df2.dest2), 'left').persist()\n",
    "        df.count()\n",
    "        df = df.fillna({'wt1':0})\n",
    "        df = df.withColumn('allclose',np_allclose(col('wt1'),col('wt2'))).persist()\n",
    "\n",
    "        if df.count() == df.filter(df.allclose==1).count():\n",
    "            df.unpersist()\n",
    "            return True\n",
    "        else:\n",
    "            df.unpersist()\n",
    "            return False\n",
    "    except Exception as e:\n",
    "        logging.error(f\"An error occurred in convergence check: {str(e)}\")\n",
    "\n",
    "def get_clusters(df):\n",
    "    \"\"\"\n",
    "    Fetch clusters from the converged matrix.\n",
    "    \n",
    "    Args:\n",
    "    df (DataFrame): DataFrame of the coordinate matrix.\n",
    "    \n",
    "    Returns:\n",
    "    DataFrame: DataFrame of the clusters.\n",
    "    \"\"\"\n",
    "    try:\n",
    "        cols = df.columns\n",
    "        df = df.withColumnRenamed(cols[0],'src').withColumnRenamed(cols[1],'dest').withColumnRenamed(cols[2],'wt')\n",
    "        diagonals = df.filter((df.src==df.dest)&(df.wt>0)).select('src').distinct().collect()\n",
    "        ids = [r[0] for r in diagonals]\n",
    "        fdf = df.filter(df.src.isin(ids)).groupby('src').agg(collect_list('dest')).withColumnRenamed('collect_list(dest)','clusters')\n",
    "        fdf = fdf.rdd.zipWithIndex().toDF().withColumnRenamed('_1','nodes_in_cluster').withColumnRenamed('_2','cluster_id')\n",
    "        fdf = fdf.select('cluster_id','nodes_in_cluster')\n",
    "        return fdf\n",
    "    except Exception as e:\n",
    "        logging.error(f\"An error occurred in cluster extraction: {str(e)}\")"
   ]
  },
  {
   "cell_type": "code",
   "execution_count": 0,
   "metadata": {
    "application/vnd.databricks.v1+cell": {
     "cellMetadata": {
      "byteLimit": 2048000,
      "rowLimit": 10000
     },
     "inputWidgets": {},
     "nuid": "9d7816d5-56ba-43f0-96ba-1f8d9a358704",
     "showTitle": false,
     "title": ""
    }
   },
   "outputs": [
    {
     "output_type": "display_data",
     "data": {
      "text/html": [
       "<style scoped>\n",
       "  .ansiout {\n",
       "    display: block;\n",
       "    unicode-bidi: embed;\n",
       "    white-space: pre-wrap;\n",
       "    word-wrap: break-word;\n",
       "    word-break: break-all;\n",
       "    font-family: \"Menlo\", \"Monaco\", \"Consolas\", \"Ubuntu Mono\", \"Source Code Pro\", monospace;\n",
       "    font-size: 13px;\n",
       "    color: #555;\n",
       "    margin-left: 4px;\n",
       "    line-height: 19px;\n",
       "  }\n",
       "</style>\n",
       "<div class=\"ansiout\"></div>"
      ]
     },
     "metadata": {
      "application/vnd.databricks.v1+output": {
       "addedWidgets": {},
       "arguments": {},
       "data": "<div class=\"ansiout\"></div>",
       "datasetInfos": [],
       "metadata": {},
       "removedWidgets": [],
       "type": "html"
      }
     },
     "output_type": "display_data"
    }
   ],
   "source": [
    "def run_scaled_mcl(matrix, expansion=2, inflation=2, loop_value=1, iterations=100, pruning_threshold=0.001, pruning_frequency=1, convergence_check_frequency=1):\n",
    "    \"\"\"\n",
    "    Run the scaled Markov Clustering algorithm.\n",
    "\n",
    "    Args:\n",
    "    matrix (DataFrame): Input DataFrame.\n",
    "    expansion (int): Expansion rate.\n",
    "    inflation (int): Inflation rate.\n",
    "    loop_value (int): Value for self-loops.\n",
    "    iterations (int): Number of iterations.\n",
    "    pruning_threshold (float): Pruning threshold.\n",
    "    pruning_frequency (int): Pruning frequency.\n",
    "    convergence_check_frequency (int): Convergence check frequency.\n",
    "\n",
    "    Returns:\n",
    "    DataFrame: Result of the MCL algorithm.\n",
    "    \"\"\"\n",
    "    try:\n",
    "        # Initialize variables\n",
    "        result_matrix = None\n",
    "\n",
    "        # Iterate through the specified number of iterations\n",
    "        for i in range(iterations):\n",
    "            # Perform MCL steps\n",
    "            # Step 1: Expansion\n",
    "            expanded_matrix = expand_mat(matrix, expansion)\n",
    "\n",
    "            # Step 2: Inflation\n",
    "            inflated_matrix = inflate_mat(expanded_matrix, inflation)\n",
    "\n",
    "            # Step 3: Pruning\n",
    "            pruned_matrix = prune_mat(inflated_matrix, pruning_threshold)\n",
    "\n",
    "            # Check for convergence\n",
    "            if i % convergence_check_frequency == 0:\n",
    "                if converged(matrix, pruned_matrix):\n",
    "                    logging.info(f\"MCL algorithm converged after {i} iterations.\")\n",
    "                    break\n",
    "\n",
    "            # Update the matrix for the next iteration\n",
    "            matrix = pruned_matrix\n",
    "\n",
    "        # Extract clusters from the converged matrix\n",
    "        clusters_df = get_clusters(pruned_matrix)\n",
    "\n",
    "        return clusters_df\n",
    "\n",
    "    except Exception as e:\n",
    "        logging.error(f\"An error occurred in MCL algorithm: {str(e)}\")\n"
   ]
  },
  {
   "cell_type": "code",
   "execution_count": 0,
   "metadata": {
    "application/vnd.databricks.v1+cell": {
     "cellMetadata": {
      "byteLimit": 2048000,
      "rowLimit": 10000
     },
     "inputWidgets": {},
     "nuid": "0ddf864e-0ecf-40c3-9416-8cb7bce2106f",
     "showTitle": false,
     "title": ""
    }
   },
   "outputs": [
    {
     "output_type": "display_data",
     "data": {
      "text/html": [
       "<style scoped>\n",
       "  .ansiout {\n",
       "    display: block;\n",
       "    unicode-bidi: embed;\n",
       "    white-space: pre-wrap;\n",
       "    word-wrap: break-word;\n",
       "    word-break: break-all;\n",
       "    font-family: \"Menlo\", \"Monaco\", \"Consolas\", \"Ubuntu Mono\", \"Source Code Pro\", monospace;\n",
       "    font-size: 13px;\n",
       "    color: #555;\n",
       "    margin-left: 4px;\n",
       "    line-height: 19px;\n",
       "  }\n",
       "</style>\n",
       "<div class=\"ansiout\"></div>"
      ]
     },
     "metadata": {
      "application/vnd.databricks.v1+output": {
       "addedWidgets": {},
       "arguments": {},
       "data": "<div class=\"ansiout\"></div>",
       "datasetInfos": [],
       "metadata": {},
       "removedWidgets": [],
       "type": "html"
      }
     },
     "output_type": "display_data"
    }
   ],
   "source": [
    "results = run_scaled_mcl(matrix = edges_test.select(\"src\", \"dst\", \"normal\"), iterations = 5)"
   ]
  },
  {
   "cell_type": "code",
   "execution_count": 0,
   "metadata": {
    "application/vnd.databricks.v1+cell": {
     "cellMetadata": {
      "byteLimit": 2048000,
      "rowLimit": 10000
     },
     "inputWidgets": {},
     "nuid": "311b93a9-e45d-457b-bb44-d1d1d3885fe7",
     "showTitle": false,
     "title": ""
    }
   },
   "outputs": [
    {
     "output_type": "display_data",
     "data": {
      "text/html": [
       "<style scoped>\n",
       "  .table-result-container {\n",
       "    max-height: 300px;\n",
       "    overflow: auto;\n",
       "  }\n",
       "  table, th, td {\n",
       "    border: 1px solid black;\n",
       "    border-collapse: collapse;\n",
       "  }\n",
       "  th, td {\n",
       "    padding: 5px;\n",
       "  }\n",
       "  th {\n",
       "    text-align: left;\n",
       "  }\n",
       "</style><div class='table-result-container'><table class='table-result'><thead style='background-color: white'><tr><th>cluster_id</th><th>nodes_in_cluster</th></tr></thead><tbody><tr><td>0</td><td>List(26, List(26, 52))</td></tr><tr><td>1</td><td>List(22, List(26, 22, 6, 27, 52, 28, 10, 8, 21, 46, 20))</td></tr><tr><td>2</td><td>List(46, List(26, 22, 52, 28, 10, 8, 21, 46, 20, 53))</td></tr><tr><td>3</td><td>List(65, List(65))</td></tr><tr><td>4</td><td>List(19, List(19, 88, 85, 18, 86, 24))</td></tr><tr><td>5</td><td>List(88, List(19, 88, 89, 85, 86))</td></tr><tr><td>6</td><td>List(86, List(19, 85, 86))</td></tr><tr><td>7</td><td>List(6, List(22, 6, 10))</td></tr><tr><td>8</td><td>List(10, List(22, 6, 27, 28, 10, 8, 21, 20))</td></tr><tr><td>9</td><td>List(21, List(22, 27, 28, 10, 8, 21, 20))</td></tr><tr><td>10</td><td>List(20, List(22, 27, 28, 10, 8, 21, 20))</td></tr><tr><td>11</td><td>List(7, List(7))</td></tr><tr><td>12</td><td>List(77, List(77, 95, 97))</td></tr><tr><td>13</td><td>List(95, List(77, 95, 97))</td></tr><tr><td>14</td><td>List(97, List(77, 95, 97))</td></tr><tr><td>15</td><td>List(84, List(84))</td></tr><tr><td>16</td><td>List(71, List(71))</td></tr><tr><td>17</td><td>List(68, List(68))</td></tr><tr><td>18</td><td>List(72, List(72))</td></tr><tr><td>19</td><td>List(63, List(63))</td></tr><tr><td>20</td><td>List(51, List(51, 48, 59, 60))</td></tr><tr><td>21</td><td>List(48, List(51, 48))</td></tr><tr><td>22</td><td>List(60, List(51, 59, 60))</td></tr><tr><td>23</td><td>List(17, List(17))</td></tr><tr><td>24</td><td>List(79, List(79))</td></tr><tr><td>25</td><td>List(89, List(88, 89))</td></tr><tr><td>26</td><td>List(67, List(67))</td></tr><tr><td>27</td><td>List(61, List(61))</td></tr><tr><td>28</td><td>List(3, List(3, 42))</td></tr><tr><td>29</td><td>List(42, List(3, 42))</td></tr><tr><td>30</td><td>List(37, List(37))</td></tr><tr><td>31</td><td>List(38, List(37, 4, 38))</td></tr><tr><td>32</td><td>List(83, List(83, 81))</td></tr><tr><td>33</td><td>List(81, List(83, 81))</td></tr><tr><td>34</td><td>List(74, List(74))</td></tr><tr><td>35</td><td>List(62, List(62))</td></tr><tr><td>36</td><td>List(11, List(11, 4, 18))</td></tr><tr><td>37</td><td>List(4, List(11, 4, 18, 38))</td></tr><tr><td>38</td><td>List(18, List(11, 18))</td></tr><tr><td>39</td><td>List(35, List(35))</td></tr><tr><td>40</td><td>List(80, List(80))</td></tr><tr><td>41</td><td>List(66, List(66))</td></tr><tr><td>42</td><td>List(76, List(76))</td></tr><tr><td>43</td><td>List(36, List(36))</td></tr><tr><td>44</td><td>List(75, List(75))</td></tr><tr><td>45</td><td>List(69, List(69))</td></tr><tr><td>46</td><td>List(14, List(14, 16))</td></tr><tr><td>47</td><td>List(16, List(14, 16))</td></tr><tr><td>48</td><td>List(15, List(15))</td></tr><tr><td>49</td><td>List(73, List(73))</td></tr><tr><td>50</td><td>List(53, List(46, 53))</td></tr><tr><td>51</td><td>List(70, List(70))</td></tr><tr><td>52</td><td>List(64, List(64))</td></tr><tr><td>53</td><td>List(24, List(24))</td></tr></tbody></table></div>"
      ]
     },
     "metadata": {
      "application/vnd.databricks.v1+output": {
       "addedWidgets": {},
       "aggData": [],
       "aggError": "",
       "aggOverflow": false,
       "aggSchema": [],
       "aggSeriesLimitReached": false,
       "aggType": "",
       "arguments": {},
       "columnCustomDisplayInfos": {},
       "data": [
        [
         0,
         [
          26,
          [
           26,
           52
          ]
         ]
        ],
        [
         1,
         [
          22,
          [
           26,
           22,
           6,
           27,
           52,
           28,
           10,
           8,
           21,
           46,
           20
          ]
         ]
        ],
        [
         2,
         [
          46,
          [
           26,
           22,
           52,
           28,
           10,
           8,
           21,
           46,
           20,
           53
          ]
         ]
        ],
        [
         3,
         [
          65,
          [
           65
          ]
         ]
        ],
        [
         4,
         [
          19,
          [
           19,
           88,
           85,
           18,
           86,
           24
          ]
         ]
        ],
        [
         5,
         [
          88,
          [
           19,
           88,
           89,
           85,
           86
          ]
         ]
        ],
        [
         6,
         [
          86,
          [
           19,
           85,
           86
          ]
         ]
        ],
        [
         7,
         [
          6,
          [
           22,
           6,
           10
          ]
         ]
        ],
        [
         8,
         [
          10,
          [
           22,
           6,
           27,
           28,
           10,
           8,
           21,
           20
          ]
         ]
        ],
        [
         9,
         [
          21,
          [
           22,
           27,
           28,
           10,
           8,
           21,
           20
          ]
         ]
        ],
        [
         10,
         [
          20,
          [
           22,
           27,
           28,
           10,
           8,
           21,
           20
          ]
         ]
        ],
        [
         11,
         [
          7,
          [
           7
          ]
         ]
        ],
        [
         12,
         [
          77,
          [
           77,
           95,
           97
          ]
         ]
        ],
        [
         13,
         [
          95,
          [
           77,
           95,
           97
          ]
         ]
        ],
        [
         14,
         [
          97,
          [
           77,
           95,
           97
          ]
         ]
        ],
        [
         15,
         [
          84,
          [
           84
          ]
         ]
        ],
        [
         16,
         [
          71,
          [
           71
          ]
         ]
        ],
        [
         17,
         [
          68,
          [
           68
          ]
         ]
        ],
        [
         18,
         [
          72,
          [
           72
          ]
         ]
        ],
        [
         19,
         [
          63,
          [
           63
          ]
         ]
        ],
        [
         20,
         [
          51,
          [
           51,
           48,
           59,
           60
          ]
         ]
        ],
        [
         21,
         [
          48,
          [
           51,
           48
          ]
         ]
        ],
        [
         22,
         [
          60,
          [
           51,
           59,
           60
          ]
         ]
        ],
        [
         23,
         [
          17,
          [
           17
          ]
         ]
        ],
        [
         24,
         [
          79,
          [
           79
          ]
         ]
        ],
        [
         25,
         [
          89,
          [
           88,
           89
          ]
         ]
        ],
        [
         26,
         [
          67,
          [
           67
          ]
         ]
        ],
        [
         27,
         [
          61,
          [
           61
          ]
         ]
        ],
        [
         28,
         [
          3,
          [
           3,
           42
          ]
         ]
        ],
        [
         29,
         [
          42,
          [
           3,
           42
          ]
         ]
        ],
        [
         30,
         [
          37,
          [
           37
          ]
         ]
        ],
        [
         31,
         [
          38,
          [
           37,
           4,
           38
          ]
         ]
        ],
        [
         32,
         [
          83,
          [
           83,
           81
          ]
         ]
        ],
        [
         33,
         [
          81,
          [
           83,
           81
          ]
         ]
        ],
        [
         34,
         [
          74,
          [
           74
          ]
         ]
        ],
        [
         35,
         [
          62,
          [
           62
          ]
         ]
        ],
        [
         36,
         [
          11,
          [
           11,
           4,
           18
          ]
         ]
        ],
        [
         37,
         [
          4,
          [
           11,
           4,
           18,
           38
          ]
         ]
        ],
        [
         38,
         [
          18,
          [
           11,
           18
          ]
         ]
        ],
        [
         39,
         [
          35,
          [
           35
          ]
         ]
        ],
        [
         40,
         [
          80,
          [
           80
          ]
         ]
        ],
        [
         41,
         [
          66,
          [
           66
          ]
         ]
        ],
        [
         42,
         [
          76,
          [
           76
          ]
         ]
        ],
        [
         43,
         [
          36,
          [
           36
          ]
         ]
        ],
        [
         44,
         [
          75,
          [
           75
          ]
         ]
        ],
        [
         45,
         [
          69,
          [
           69
          ]
         ]
        ],
        [
         46,
         [
          14,
          [
           14,
           16
          ]
         ]
        ],
        [
         47,
         [
          16,
          [
           14,
           16
          ]
         ]
        ],
        [
         48,
         [
          15,
          [
           15
          ]
         ]
        ],
        [
         49,
         [
          73,
          [
           73
          ]
         ]
        ],
        [
         50,
         [
          53,
          [
           46,
           53
          ]
         ]
        ],
        [
         51,
         [
          70,
          [
           70
          ]
         ]
        ],
        [
         52,
         [
          64,
          [
           64
          ]
         ]
        ],
        [
         53,
         [
          24,
          [
           24
          ]
         ]
        ]
       ],
       "datasetInfos": [],
       "dbfsResultPath": null,
       "isJsonSchema": true,
       "metadata": {},
       "overflow": false,
       "plotOptions": {
        "customPlotOptions": {},
        "displayType": "table",
        "pivotAggregation": null,
        "pivotColumns": null,
        "xColumns": null,
        "yColumns": null
       },
       "removedWidgets": [],
       "schema": [
        {
         "metadata": "{}",
         "name": "cluster_id",
         "type": "\"long\""
        },
        {
         "metadata": "{}",
         "name": "nodes_in_cluster",
         "type": "{\"type\":\"struct\",\"fields\":[{\"name\":\"src\",\"type\":\"long\",\"nullable\":true,\"metadata\":{}},{\"name\":\"clusters\",\"type\":{\"type\":\"array\",\"elementType\":\"long\",\"containsNull\":true},\"nullable\":true,\"metadata\":{}}]}"
        }
       ],
       "type": "table"
      }
     },
     "output_type": "display_data"
    }
   ],
   "source": [
    "display(results)"
   ]
  },
  {
   "cell_type": "code",
   "execution_count": 0,
   "metadata": {
    "application/vnd.databricks.v1+cell": {
     "cellMetadata": {
      "byteLimit": 2048000,
      "rowLimit": 10000
     },
     "inputWidgets": {},
     "nuid": "b481dd4b-8cda-4891-a4d9-a75728295be8",
     "showTitle": false,
     "title": ""
    }
   },
   "outputs": [
    {
     "output_type": "display_data",
     "data": {
      "text/html": [
       "<style scoped>\n",
       "  .ansiout {\n",
       "    display: block;\n",
       "    unicode-bidi: embed;\n",
       "    white-space: pre-wrap;\n",
       "    word-wrap: break-word;\n",
       "    word-break: break-all;\n",
       "    font-family: \"Menlo\", \"Monaco\", \"Consolas\", \"Ubuntu Mono\", \"Source Code Pro\", monospace;\n",
       "    font-size: 13px;\n",
       "    color: #555;\n",
       "    margin-left: 4px;\n",
       "    line-height: 19px;\n",
       "  }\n",
       "</style>\n",
       "<div class=\"ansiout\"></div>"
      ]
     },
     "metadata": {
      "application/vnd.databricks.v1+output": {
       "addedWidgets": {},
       "arguments": {},
       "data": "<div class=\"ansiout\"></div>",
       "datasetInfos": [],
       "metadata": {},
       "removedWidgets": [],
       "type": "html"
      }
     },
     "output_type": "display_data"
    }
   ],
   "source": [
    "# results.write.format(\"delta\").mode(\"overwrite\").option(\"overwriteSchema\", \"true\").saveAsTable(\"gowalla_mcl\")"
   ]
  }
 ],
 "metadata": {
  "application/vnd.databricks.v1+notebook": {
   "dashboards": [],
   "language": "python",
   "notebookMetadata": {
    "mostRecentlyExecutedCommandWithImplicitDF": {
     "commandId": 3704508707919082,
     "dataframes": [
      "_sqldf"
     ]
    },
    "pythonIndentUnit": 4
   },
   "notebookName": "Markov Clustering",
   "widgets": {}
  }
 },
 "nbformat": 4,
 "nbformat_minor": 0
}
